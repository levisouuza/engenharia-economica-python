{
 "cells": [
  {
   "cell_type": "markdown",
   "metadata": {
    "colab_type": "text",
    "id": "Z-3mdTu-faCU"
   },
   "source": [
    "# Outras ferramentas de avaliação de investimentos"
   ]
  },
  {
   "cell_type": "markdown",
   "metadata": {
    "colab_type": "text",
    "id": "Rbf_wZgkf5el"
   },
   "source": [
    "## Índice de Lucratividade (IL)"
   ]
  },
  {
   "cell_type": "markdown",
   "metadata": {
    "colab_type": "text",
    "id": "iCZkUr0xgDrC"
   },
   "source": [
    "O Índice de lucratividade avalia a capacidade do investimento/projeto em gerar lucros. Em projetos que apresentam VLP's idênticos ou próximos, o IL poderá ser uma forma de identificar aquele que gerará maiores resultados econômicos. "
   ]
  },
  {
   "cell_type": "markdown",
   "metadata": {
    "colab_type": "text",
    "id": "9KZ3pHqEju5R"
   },
   "source": [
    "**Expressão Índice de Lucratividade**\n",
    "\n",
    "![IL](https://lh4.googleusercontent.com/4MpJDkKBjPHVx55sz04-JK7gkf6h-XNTjCNgV7bKztuRgdBVnqpLyzPHyBcvOTJlYFRXMqQ9EZgHw5iAXFCy-OKa6O2Kd4VdkzPTz90YiD6hErAMcdrPbDgDWXqdUHHgEfBPO0Gs)"
   ]
  },
  {
   "cell_type": "code",
   "execution_count": null,
   "metadata": {
    "colab": {},
    "colab_type": "code",
    "id": "MnWJA48daGJj"
   },
   "outputs": [],
   "source": [
    "import numpy as np"
   ]
  },
  {
   "cell_type": "code",
   "execution_count": null,
   "metadata": {
    "colab": {},
    "colab_type": "code",
    "id": "l_RuRXX-aN6U"
   },
   "outputs": [],
   "source": [
    "cf1 = [-300, 140 , 160, 200, 43.50]\n",
    "cf2 = [-600, 220 , 150, 615.45, 43.50]\n",
    "rate = 0.2\n",
    "nper = np.linspace(0, 4, 5, dtype=int)"
   ]
  },
  {
   "cell_type": "code",
   "execution_count": null,
   "metadata": {
    "colab": {},
    "colab_type": "code",
    "id": "WV7mZfwgaKwV"
   },
   "outputs": [],
   "source": [
    "def vpl(cf, rate, nper):\n",
    "  '''\n",
    "  vp: lista com investimento inicial, onde será adicionado os valores presentes do fluxo de caixa.\n",
    "  cf: valor do fluxo de caixa.\n",
    "  rate: taxa de capitalização\n",
    "  nper: período de capitalizaçãão\n",
    "  '''\n",
    "  vp = []\n",
    "  for i in nper:\n",
    "    if i == 0:\n",
    "      vp.append(cf[i])\n",
    "    elif i != 0:\n",
    "      npv = round(cf[i] / np.power((1+rate),i),2)\n",
    "      vp.append(npv)\n",
    "\n",
    "  return sum(vp)"
   ]
  },
  {
   "cell_type": "code",
   "execution_count": null,
   "metadata": {
    "colab": {
     "base_uri": "https://localhost:8080/",
     "height": 34
    },
    "colab_type": "code",
    "executionInfo": {
     "elapsed": 924,
     "status": "ok",
     "timestamp": 1593006308987,
     "user": {
      "displayName": "Levi Souza",
      "photoUrl": "https://lh3.googleusercontent.com/a-/AOh14Gi1jidziim5rz4dgA-XlfYvSrS6bj-T_-5rPUoAHw=s64",
      "userId": "17727429839319898097"
     },
     "user_tz": 180
    },
    "id": "-lFL1QR5aNTY",
    "outputId": "ae836f44-1d8c-44c6-cfa0-9ed74edceb5e"
   },
   "outputs": [
    {
     "data": {
      "text/plain": [
       "64.5"
      ]
     },
     "execution_count": 43,
     "metadata": {
      "tags": []
     },
     "output_type": "execute_result"
    }
   ],
   "source": [
    "#vpl cashflow 1\n",
    "round(vpl(cf1, rate, nper),1)"
   ]
  },
  {
   "cell_type": "code",
   "execution_count": null,
   "metadata": {
    "colab": {
     "base_uri": "https://localhost:8080/",
     "height": 34
    },
    "colab_type": "code",
    "executionInfo": {
     "elapsed": 1187,
     "status": "ok",
     "timestamp": 1593006302942,
     "user": {
      "displayName": "Levi Souza",
      "photoUrl": "https://lh3.googleusercontent.com/a-/AOh14Gi1jidziim5rz4dgA-XlfYvSrS6bj-T_-5rPUoAHw=s64",
      "userId": "17727429839319898097"
     },
     "user_tz": 180
    },
    "id": "5TAKPuVVbnVA",
    "outputId": "20668e1f-aa61-45a4-d8e3-48bf3e32bd91"
   },
   "outputs": [
    {
     "data": {
      "text/plain": [
       "64.6"
      ]
     },
     "execution_count": 42,
     "metadata": {
      "tags": []
     },
     "output_type": "execute_result"
    }
   ],
   "source": [
    "#vpl cashflow 2\n",
    "round(vpl(cf2, rate, nper),1)"
   ]
  },
  {
   "cell_type": "code",
   "execution_count": null,
   "metadata": {
    "colab": {},
    "colab_type": "code",
    "id": "YrPR2aQgbpEs"
   },
   "outputs": [],
   "source": [
    "def ind_lucr(cf, rate, nper):\n",
    "  '''\n",
    "  vp: lista com investimento inicial, onde será adicionado os valores presentes do fluxo de caixa.\n",
    "  cf: valor do fluxo de caixa.\n",
    "  rate: taxa de capitalização\n",
    "  nper: período de capitalizaçãão\n",
    "  '''\n",
    "  vp = []\n",
    "  for i in nper:\n",
    "    if i != 0:\n",
    "      npv = round(cf[i] / np.power((1+rate),i),2)\n",
    "      vp.append(npv)\n",
    "  \n",
    "  il = sum(vp)/cf[0]\n",
    "\n",
    "  return il * -1"
   ]
  },
  {
   "cell_type": "code",
   "execution_count": null,
   "metadata": {
    "colab": {
     "base_uri": "https://localhost:8080/",
     "height": 34
    },
    "colab_type": "code",
    "executionInfo": {
     "elapsed": 1307,
     "status": "ok",
     "timestamp": 1593006677626,
     "user": {
      "displayName": "Levi Souza",
      "photoUrl": "https://lh3.googleusercontent.com/a-/AOh14Gi1jidziim5rz4dgA-XlfYvSrS6bj-T_-5rPUoAHw=s64",
      "userId": "17727429839319898097"
     },
     "user_tz": 180
    },
    "id": "SsEwxOJJl5TV",
    "outputId": "b1354169-3baf-4d32-f3d4-542601aa92e8"
   },
   "outputs": [
    {
     "data": {
      "text/plain": [
       "1.215"
      ]
     },
     "execution_count": 52,
     "metadata": {
      "tags": []
     },
     "output_type": "execute_result"
    }
   ],
   "source": [
    "#indice de lucratividade cashflow 1\n",
    "\n",
    "round(ind_lucr(cf1, rate, nper),4)"
   ]
  },
  {
   "cell_type": "code",
   "execution_count": null,
   "metadata": {
    "colab": {
     "base_uri": "https://localhost:8080/",
     "height": 34
    },
    "colab_type": "code",
    "executionInfo": {
     "elapsed": 598,
     "status": "ok",
     "timestamp": 1593006678141,
     "user": {
      "displayName": "Levi Souza",
      "photoUrl": "https://lh3.googleusercontent.com/a-/AOh14Gi1jidziim5rz4dgA-XlfYvSrS6bj-T_-5rPUoAHw=s64",
      "userId": "17727429839319898097"
     },
     "user_tz": 180
    },
    "id": "kKxiqOiQmB_V",
    "outputId": "c71a89cb-9bec-47f8-9b87-9b10b2488a46"
   },
   "outputs": [
    {
     "data": {
      "text/plain": [
       "1.1077"
      ]
     },
     "execution_count": 53,
     "metadata": {
      "tags": []
     },
     "output_type": "execute_result"
    }
   ],
   "source": [
    "#indice de lucratividade cashflow 2\n",
    "\n",
    "round(ind_lucr(cf2, rate, nper), 4)"
   ]
  },
  {
   "cell_type": "markdown",
   "metadata": {
    "colab_type": "text",
    "id": "EZli1EYFmPZA"
   },
   "source": [
    "Logo, podemos identificar que o projeto do cashflow 1 é mais lucrativo que o projeto do cashflow 2. "
   ]
  },
  {
   "cell_type": "markdown",
   "metadata": {
    "colab_type": "text",
    "id": "BJOK21rNnFX7"
   },
   "source": [
    "## Custo Anual Equivalente"
   ]
  },
  {
   "cell_type": "markdown",
   "metadata": {
    "colab_type": "text",
    "id": "CLQC25sgnJM3"
   },
   "source": [
    "O custo anual equivalente ou CAE, permite conhecer os custos anuais atrelados ao investimento inicial. A ideia principal é que os investimentos sejam rateados uniformemente entre custos de investimentos, operação e oportunidade. "
   ]
  },
  {
   "cell_type": "markdown",
   "metadata": {
    "colab_type": "text",
    "id": "Tg0woGXr_EHp"
   },
   "source": [
    "**Expressão CAE**\n",
    "\n",
    "![cae](http://www.portalaction.com.br/files/tex/333f9c2f8316333913df95571a0998950552b040.png)"
   ]
  },
  {
   "cell_type": "markdown",
   "metadata": {
    "colab_type": "text",
    "id": "4WxA9FpG_rrT"
   },
   "source": [
    "**Exemplo 2**: \n",
    "\n",
    "![exemplo CAE](images/exemploCAE.png)"
   ]
  },
  {
   "cell_type": "code",
   "execution_count": null,
   "metadata": {
    "colab": {},
    "colab_type": "code",
    "id": "s39_I1luAYOJ"
   },
   "outputs": [],
   "source": [
    "CFa = [500, 120 , 120, 120]\n",
    "CFb = [600, 100 , 100, 100, 100]\n",
    "\n",
    "nperA = np.linspace(0, 3, 4, dtype=int)\n",
    "nperB = np.linspace(0, 4, 5, dtype=int)\n",
    "\n",
    "rate = 0.1"
   ]
  },
  {
   "cell_type": "code",
   "execution_count": null,
   "metadata": {
    "colab": {
     "base_uri": "https://localhost:8080/",
     "height": 34
    },
    "colab_type": "code",
    "executionInfo": {
     "elapsed": 1056,
     "status": "ok",
     "timestamp": 1593018605807,
     "user": {
      "displayName": "Levi Souza",
      "photoUrl": "https://lh3.googleusercontent.com/a-/AOh14Gi1jidziim5rz4dgA-XlfYvSrS6bj-T_-5rPUoAHw=s64",
      "userId": "17727429839319898097"
     },
     "user_tz": 180
    },
    "id": "dAT2MXUDAznr",
    "outputId": "5bb3f185-70c4-41bd-a70f-9e060555f7f7"
   },
   "outputs": [
    {
     "data": {
      "text/plain": [
       "798.42"
      ]
     },
     "execution_count": 94,
     "metadata": {
      "tags": []
     },
     "output_type": "execute_result"
    }
   ],
   "source": [
    "vplA = vpl(CFa, rate, nperA)\n",
    "vplA"
   ]
  },
  {
   "cell_type": "code",
   "execution_count": null,
   "metadata": {
    "colab": {
     "base_uri": "https://localhost:8080/",
     "height": 34
    },
    "colab_type": "code",
    "executionInfo": {
     "elapsed": 1256,
     "status": "ok",
     "timestamp": 1593018611829,
     "user": {
      "displayName": "Levi Souza",
      "photoUrl": "https://lh3.googleusercontent.com/a-/AOh14Gi1jidziim5rz4dgA-XlfYvSrS6bj-T_-5rPUoAHw=s64",
      "userId": "17727429839319898097"
     },
     "user_tz": 180
    },
    "id": "xBfcwlE9A8Ga",
    "outputId": "dc625712-5b37-40f6-f080-37152e451ce1"
   },
   "outputs": [
    {
     "data": {
      "text/plain": [
       "916.98"
      ]
     },
     "execution_count": 95,
     "metadata": {
      "tags": []
     },
     "output_type": "execute_result"
    }
   ],
   "source": [
    "vplB = round(vpl(CFb, rate, nperB),2)\n",
    "vplB"
   ]
  },
  {
   "cell_type": "markdown",
   "metadata": {
    "colab_type": "text",
    "id": "VDbypZajBc48"
   },
   "source": [
    "Apresentando os valores do VPL dos custos de A e B, a aquisição tende a ser a do projeto A. Entretanto, deve ser avaliado também as vidas úteis dos projetos em análise. Nesse caso, iremos utilizar a fórmula do CAE para verificar os custos dos projetoos evidenciando suas respectivas vidas úteis."
   ]
  },
  {
   "cell_type": "code",
   "execution_count": null,
   "metadata": {
    "colab": {},
    "colab_type": "code",
    "id": "JQvRW2qdBOrn"
   },
   "outputs": [],
   "source": [
    "def CAE(vp, rate, nper):\n",
    "  cae = vp * ((((1+rate)**nper) * rate) / (((1+rate)**nper)-1))\n",
    "  return round(cae, 2)"
   ]
  },
  {
   "cell_type": "code",
   "execution_count": null,
   "metadata": {
    "colab": {
     "base_uri": "https://localhost:8080/",
     "height": 34
    },
    "colab_type": "code",
    "executionInfo": {
     "elapsed": 1325,
     "status": "ok",
     "timestamp": 1593014706392,
     "user": {
      "displayName": "Levi Souza",
      "photoUrl": "https://lh3.googleusercontent.com/a-/AOh14Gi1jidziim5rz4dgA-XlfYvSrS6bj-T_-5rPUoAHw=s64",
      "userId": "17727429839319898097"
     },
     "user_tz": 180
    },
    "id": "DfnHS_ZLDcQJ",
    "outputId": "05c44210-06d7-49f6-c8c0-9fba6e19796b"
   },
   "outputs": [
    {
     "data": {
      "text/plain": [
       "321.06"
      ]
     },
     "execution_count": 76,
     "metadata": {
      "tags": []
     },
     "output_type": "execute_result"
    }
   ],
   "source": [
    "CAEa = CAE(vplA, rate, 3)\n",
    "\n",
    "CAEa"
   ]
  },
  {
   "cell_type": "code",
   "execution_count": null,
   "metadata": {
    "colab": {
     "base_uri": "https://localhost:8080/",
     "height": 34
    },
    "colab_type": "code",
    "executionInfo": {
     "elapsed": 1522,
     "status": "ok",
     "timestamp": 1593014709937,
     "user": {
      "displayName": "Levi Souza",
      "photoUrl": "https://lh3.googleusercontent.com/a-/AOh14Gi1jidziim5rz4dgA-XlfYvSrS6bj-T_-5rPUoAHw=s64",
      "userId": "17727429839319898097"
     },
     "user_tz": 180
    },
    "id": "E3OxlTdTDf3Y",
    "outputId": "9a370980-83ee-4d11-c736-2f3a109ef1aa"
   },
   "outputs": [
    {
     "data": {
      "text/plain": [
       "289.28"
      ]
     },
     "execution_count": 77,
     "metadata": {
      "tags": []
     },
     "output_type": "execute_result"
    }
   ],
   "source": [
    "CAEb = CAE(vplB, rate, 4)\n",
    "\n",
    "CAEb"
   ]
  },
  {
   "cell_type": "markdown",
   "metadata": {
    "colab_type": "text",
    "id": "EC9oirxLE3oD"
   },
   "source": [
    "Comparando CAEa X CAEb, é possível verificar que o projeto B apresenta menor custo anual. Portanto, deve ser o aprovado. "
   ]
  },
  {
   "cell_type": "markdown",
   "metadata": {
    "colab_type": "text",
    "id": "0CALHu-lFHnt"
   },
   "source": [
    "## Índice de Benefício/Custo"
   ]
  },
  {
   "cell_type": "markdown",
   "metadata": {
    "colab_type": "text",
    "id": "qwACOAhhL47T"
   },
   "source": [
    "É relação entre o fluxo esperado de benefícios e o fluxo esperado de custos de investimento, ou seja, é quanto há de ganho de capital sobre o valor do investimento. "
   ]
  },
  {
   "cell_type": "markdown",
   "metadata": {
    "colab_type": "text",
    "id": "KGVXhjU9M92c"
   },
   "source": [
    "**Expressão Índice de Benefício/Custo**\n",
    "\n",
    "![IBC](https://cdn.shortpixel.ai/client/q_lossless,ret_img,w_699/https://negociovencedor.com/wp-content/uploads/2020/01/formula-indice-beneficio-custo-ibc-financa.jpg)"
   ]
  },
  {
   "cell_type": "markdown",
   "metadata": {
    "colab_type": "text",
    "id": "ceNsQMKIOQ9Z"
   },
   "source": [
    "\n",
    "\n",
    "*   IBC > 1, Lucro Econômico\n",
    "*   IBC < 1, Prejuízo Econômico\n",
    "\n"
   ]
  },
  {
   "cell_type": "markdown",
   "metadata": {
    "colab_type": "text",
    "id": "Kbp06wmNP2ZZ"
   },
   "source": [
    "**Exemplo 3**: O engenheiro-chefe de uma fábrica de parafusos considera adquirir um novo torno digital que aumentará a produção durante os seus 5 anos de vida útil. A máquina custará 50.000,00 e acrescerá anualmente ao fluxo de caixa o valor de R$20.000,00. A diretoria só irá aprovar a aquisição se tiver 20% de retorno sobre o investimento. Será que é viável a compra desta nova máquina?"
   ]
  },
  {
   "cell_type": "code",
   "execution_count": null,
   "metadata": {
    "colab": {},
    "colab_type": "code",
    "id": "VE6odWaNRd9Z"
   },
   "outputs": [],
   "source": [
    "CF = [50000, 20000, 20000, 20000, 20000, 20000]\n",
    "rate = 0.2\n",
    "nper = np.linspace(0, 5, 6, dtype=int)"
   ]
  },
  {
   "cell_type": "code",
   "execution_count": null,
   "metadata": {
    "colab": {},
    "colab_type": "code",
    "id": "8095WRqqVBQQ"
   },
   "outputs": [],
   "source": [
    "FluxoInvest = CF[0]"
   ]
  },
  {
   "cell_type": "code",
   "execution_count": null,
   "metadata": {
    "colab": {
     "base_uri": "https://localhost:8080/",
     "height": 34
    },
    "colab_type": "code",
    "executionInfo": {
     "elapsed": 1723,
     "status": "ok",
     "timestamp": 1593019110926,
     "user": {
      "displayName": "Levi Souza",
      "photoUrl": "https://lh3.googleusercontent.com/a-/AOh14Gi1jidziim5rz4dgA-XlfYvSrS6bj-T_-5rPUoAHw=s64",
      "userId": "17727429839319898097"
     },
     "user_tz": 180
    },
    "id": "elZ-95oWVJST",
    "outputId": "694ba910-55b2-4e47-ff84-549429e6993f"
   },
   "outputs": [
    {
     "data": {
      "text/plain": [
       "59812.24"
      ]
     },
     "execution_count": 100,
     "metadata": {
      "tags": []
     },
     "output_type": "execute_result"
    }
   ],
   "source": [
    "FluxoBenef = round(vpl(CF, rate, nper)- CF[0],2)\n",
    "\n",
    "FluxoBenef"
   ]
  },
  {
   "cell_type": "code",
   "execution_count": null,
   "metadata": {
    "colab": {
     "base_uri": "https://localhost:8080/",
     "height": 34
    },
    "colab_type": "code",
    "executionInfo": {
     "elapsed": 1294,
     "status": "ok",
     "timestamp": 1593019477127,
     "user": {
      "displayName": "Levi Souza",
      "photoUrl": "https://lh3.googleusercontent.com/a-/AOh14Gi1jidziim5rz4dgA-XlfYvSrS6bj-T_-5rPUoAHw=s64",
      "userId": "17727429839319898097"
     },
     "user_tz": 180
    },
    "id": "pfPk0KeZVfQ4",
    "outputId": "1a11340a-dcad-4748-95f1-eae06c60b934"
   },
   "outputs": [
    {
     "data": {
      "text/plain": [
       "1.1962"
      ]
     },
     "execution_count": 102,
     "metadata": {
      "tags": []
     },
     "output_type": "execute_result"
    }
   ],
   "source": [
    "ibc = round(FluxoBenef / FluxoInvest,4)\n",
    "\n",
    "ibc"
   ]
  },
  {
   "cell_type": "markdown",
   "metadata": {
    "colab_type": "text",
    "id": "eMJVSvEzXFnl"
   },
   "source": [
    "O valor de 1.1962 significa que para cada R$ 1,00 investido, o investimento irá ter 0.1962 de lucro recebido. "
   ]
  },
  {
   "cell_type": "markdown",
   "metadata": {
    "colab_type": "text",
    "id": "aXX_b9H6Z_41"
   },
   "source": [
    "## Múltiplos\n"
   ]
  },
  {
   "cell_type": "markdown",
   "metadata": {
    "colab_type": "text",
    "id": "19whZ3dpaFgk"
   },
   "source": [
    "Para entender o conceito de múltiplos é necessário conhecer a definição de análise fundamentalista. \n",
    "\n",
    "Análise fundamentalista é o tipo de análise de investimento que utiliza fundamentos das empresas para sua avaliação. Os fundamentos são indicadores financeiros provenientes de sua operação e mercado de ações. \n",
    "\n",
    "Os múltiplos são os indicadores utilizados para esse tipo de análise. São frequentemente calculados para avaliações de empresas com o intuito de compra/venda de ações. "
   ]
  },
  {
   "cell_type": "markdown",
   "metadata": {
    "colab_type": "text",
    "id": "whRMw3RedByP"
   },
   "source": [
    "Os mais utilizados são: \n",
    "\n",
    "*  PL\n",
    "*  ROE\n",
    "*  DY"
   ]
  },
  {
   "cell_type": "markdown",
   "metadata": {
    "colab_type": "text",
    "id": "Fhdv-AQofKQH"
   },
   "source": [
    "#### 1.PL "
   ]
  },
  {
   "cell_type": "markdown",
   "metadata": {
    "colab_type": "text",
    "id": "b1ndZgGJfOGP"
   },
   "source": [
    "O PL ou preço/lucro é o indicador mais conhecido do Mercado Financeiro. O **P** é referente ao preço atual da ação que pode ser visto no home broker de sua corretora. O **L** é referente ao lucro dos últimos 12 meses por ação. \n",
    "\n",
    "O PL indica quanto tempo você terá o valor investido de volta. Quanto menor, melhor. Todavia, *retornos do passado não são garantias de retornos do futuro*, portanto, o PL **indica** que poderá ter um retorno em determinado período, mas não o garante."
   ]
  },
  {
   "cell_type": "markdown",
   "metadata": {
    "colab_type": "text",
    "id": "7_zZSJHIhJpL"
   },
   "source": [
    "#### 2.ROE "
   ]
  },
  {
   "cell_type": "markdown",
   "metadata": {
    "colab_type": "text",
    "id": "Ue569fglhOIm"
   },
   "source": [
    "ROE significa *RETURN ON EQUITY* ou Retorno sobre o Patrimônio Líquido. O ROE representa a rentabilidade adquirida pela empresa/investimento. É definido pela expressão:\n",
    "\n",
    "ROE = Lucro Líquido(Últ.12 meses) / Patrimônio Líquido\n",
    "\n",
    "Como regra de bolso, considere uma boa empresa com ROE acima de 10% ~ 15%."
   ]
  },
  {
   "cell_type": "markdown",
   "metadata": {
    "colab_type": "text",
    "id": "KAn-jADNS75f"
   },
   "source": [
    "#### 3.DY "
   ]
  },
  {
   "cell_type": "markdown",
   "metadata": {
    "colab_type": "text",
    "id": "z2FThvUES-X7"
   },
   "source": [
    "O DY ou Dividend Yield é o múltiplo fundamentalista que informa o quanto a empresa pagou de proventos(dividendos ou jsp) nos últimos 12 meses em relação ao seu *price* atual.\n",
    "\n",
    "Os proventos são parcelas dos lucros das empresas em que os acionistas tem o direito de receber. Portanto, qual maior o DY, maiores são retornos dos acionistas.\n",
    "\n",
    "No mercado acionário existe a possibilidade de ganhar dinheiro pela valorição do ativo ou pelos proventos pagos periodicamente pelas empresas. Portanto, o DY é um múltiplo muito importante para aqueles que desejam obter esse tipo de rendimento.\n",
    "\n",
    "\n"
   ]
  }
 ],
 "metadata": {
  "colab": {
   "authorship_tag": "ABX9TyNnQyupU4SUxXWXRz2ghbSt",
   "collapsed_sections": [],
   "name": "7.Ferramentas de Aval.Investimentos.ipynb",
   "provenance": []
  },
  "kernelspec": {
   "display_name": "Python 3",
   "language": "python",
   "name": "python3"
  },
  "language_info": {
   "codemirror_mode": {
    "name": "ipython",
    "version": 3
   },
   "file_extension": ".py",
   "mimetype": "text/x-python",
   "name": "python",
   "nbconvert_exporter": "python",
   "pygments_lexer": "ipython3",
   "version": "3.8.2"
  }
 },
 "nbformat": 4,
 "nbformat_minor": 1
}
