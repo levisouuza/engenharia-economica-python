{
 "cells": [
  {
   "cell_type": "markdown",
   "metadata": {
    "colab_type": "text",
    "id": "wxzt4e1uCMdY"
   },
   "source": [
    "# Estimativa do Custo de Capital"
   ]
  },
  {
   "cell_type": "markdown",
   "metadata": {
    "colab_type": "text",
    "id": "k7vhtCXMCSVW"
   },
   "source": [
    "Todos os métodos de avaliação de investimentos vistos anteriormente apresentam a variável **taxa de retorno** influenciando significativamente seus resultados. Para que o investimento seja aprovado ela precisa possuir uma taxa de retorno maior que a **TMA** ou *Taxa Mínima de Atratividade*, considerada a \"taxa de retorno sem risco\"."
   ]
  },
  {
   "cell_type": "markdown",
   "metadata": {
    "colab_type": "text",
    "id": "AmT2mkDbDiMu"
   },
   "source": [
    "Logo, o retorno esperado do investimento precisa, obrigatoriamente, ser maior que o retorno do investimento sem risco. Para que isso seja verdadeiro, podemos dizer que:\n",
    "\n",
    "**RETORNO ESPERADO** = *RETORNO SEM RISCO* + *PRÊMIO PELO RISCO*"
   ]
  },
  {
   "cell_type": "markdown",
   "metadata": {
    "colab_type": "text",
    "id": "KcoCP6GZpyBs"
   },
   "source": [
    "Podemos calcular o retorno esperado de um investimento utilizando o método **CAPM** (Capital Asset Pricing Model). \n",
    "\n",
    "O CAPM é um método de precificação de ativos baseado a teoria do portfólio, que analisam a relação entre retorno x risco. O resultado de seu cálculo apresenta um taxa de rentabilidade téorica de um ativo.\n",
    "\n",
    "![CAPM](https://s.dicionariofinanceiro.com/imagens/capmformula.jpg)\n",
    "\n",
    "Onde:\n",
    "\n",
    "* E(R): Retorno Esperado.\n",
    "* Rf: Retorno livre de risco(Selic).\n",
    "* β: Índice Beta. Constante associada ao retorno x risco do ativo.\n",
    "* Rm: Retorno esperado do mercado.\n",
    "\n",
    "\n",
    "\n"
   ]
  },
  {
   "cell_type": "markdown",
   "metadata": {
    "colab_type": "text",
    "id": "EOUpWcUmGLdm"
   },
   "source": [
    "O mercado considera investimentos em renda fixa como investimentos que apresentam RETORNOS SEM RISCOS, utilizando a taxa básica de juros(SELIC) como taxa referência.\n",
    "\n"
   ]
  },
  {
   "cell_type": "markdown",
   "metadata": {
    "colab_type": "text",
    "id": "VMmAhsYKHX4E"
   },
   "source": [
    "O retono esperado do mercado pode ser calculado pela fórmula de gordon:\n",
    "\n",
    "![gordon](https://wikimedia.org/api/rest_v1/media/math/render/svg/29d14f2a711904f9fbd6ba6000917c58a4620e2f)\n",
    "\n",
    "Onde:\n",
    "\n",
    "* k = Rm: Retorno do mercado.\n",
    "* D1: Dividendo por ação projetado para o final do primeiro ano.\n",
    "* Po: Cotação Atual da empresa.\n",
    "* g: Taxa de crescimento da perpetuidade do dividendo, onde g é expresso por: **G = ROE x ( 1 – Payout Ratio)**.\n",
    "\n"
   ]
  },
  {
   "cell_type": "markdown",
   "metadata": {
    "colab_type": "text",
    "id": "T0D0pT_nzKGo"
   },
   "source": [
    "Considerando o ativo ITSA4, onde:\n",
    "* Dividendos dos últimos 12 meses foram R$ 0,8899 (Data referência 04/07/2020)\n",
    "* Selic igual a 2.25% a.a.\n",
    "* ROE igual a 16,67%\n",
    "* β = 1,10\n",
    "* LPA = 1,08\n",
    "\n",
    "Qual o CAPM desse ativo ?"
   ]
  },
  {
   "cell_type": "code",
   "execution_count": null,
   "metadata": {
    "colab": {},
    "colab_type": "code",
    "id": "L23jh4snB7dw"
   },
   "outputs": [],
   "source": [
    "dividendo = 0.8899\n",
    "selic = 0.0225\n",
    "roe = 0.1667\n",
    "b = 1.10\n",
    "lpa = 1.08\n",
    "price = 9.97 #dia 03/07/2020"
   ]
  },
  {
   "cell_type": "code",
   "execution_count": null,
   "metadata": {
    "colab": {
     "base_uri": "https://localhost:8080/",
     "height": 34
    },
    "colab_type": "code",
    "executionInfo": {
     "elapsed": 651,
     "status": "ok",
     "timestamp": 1593885453009,
     "user": {
      "displayName": "Levi Souza",
      "photoUrl": "https://lh3.googleusercontent.com/a-/AOh14Gi1jidziim5rz4dgA-XlfYvSrS6bj-T_-5rPUoAHw=s64",
      "userId": "17727429839319898097"
     },
     "user_tz": 180
    },
    "id": "IyIuA1oV2hEa",
    "outputId": "20e879dd-05f0-4083-890e-63bd1d7d2a74"
   },
   "outputs": [
    {
     "data": {
      "text/plain": [
       "0.82398"
      ]
     },
     "execution_count": 13,
     "metadata": {
      "tags": []
     },
     "output_type": "execute_result"
    }
   ],
   "source": [
    "#A empresa paga 82.4% do lucro líquido em dividendos.\n",
    "payout = round(dividendo / lpa ,5)\n",
    "\n",
    "payout  "
   ]
  },
  {
   "cell_type": "code",
   "execution_count": null,
   "metadata": {
    "colab": {
     "base_uri": "https://localhost:8080/",
     "height": 34
    },
    "colab_type": "code",
    "executionInfo": {
     "elapsed": 845,
     "status": "ok",
     "timestamp": 1593885457632,
     "user": {
      "displayName": "Levi Souza",
      "photoUrl": "https://lh3.googleusercontent.com/a-/AOh14Gi1jidziim5rz4dgA-XlfYvSrS6bj-T_-5rPUoAHw=s64",
      "userId": "17727429839319898097"
     },
     "user_tz": 180
    },
    "id": "08NqULjK6ZZG",
    "outputId": "cc4c4eaa-be5f-47b8-ec2f-66b676a41b01"
   },
   "outputs": [
    {
     "data": {
      "text/plain": [
       "0.02934253399999999"
      ]
     },
     "execution_count": 14,
     "metadata": {
      "tags": []
     },
     "output_type": "execute_result"
    }
   ],
   "source": [
    "#taxa de crescimento de dividendos \n",
    "g = roe * (1 - payout)\n",
    "\n",
    "g"
   ]
  },
  {
   "cell_type": "code",
   "execution_count": null,
   "metadata": {
    "colab": {
     "base_uri": "https://localhost:8080/",
     "height": 34
    },
    "colab_type": "code",
    "executionInfo": {
     "elapsed": 687,
     "status": "ok",
     "timestamp": 1593885508837,
     "user": {
      "displayName": "Levi Souza",
      "photoUrl": "https://lh3.googleusercontent.com/a-/AOh14Gi1jidziim5rz4dgA-XlfYvSrS6bj-T_-5rPUoAHw=s64",
      "userId": "17727429839319898097"
     },
     "user_tz": 180
    },
    "id": "3BiIjL732kYE",
    "outputId": "37fc4951-622d-40e2-d26f-92cad17df9ac"
   },
   "outputs": [
    {
     "data": {
      "text/plain": [
       "0.12121935656836508"
      ]
     },
     "execution_count": 17,
     "metadata": {
      "tags": []
     },
     "output_type": "execute_result"
    }
   ],
   "source": [
    "rm = ((dividendo * (1+g))/price) + g \n",
    "\n",
    "rm "
   ]
  },
  {
   "cell_type": "code",
   "execution_count": null,
   "metadata": {
    "colab": {
     "base_uri": "https://localhost:8080/",
     "height": 34
    },
    "colab_type": "code",
    "executionInfo": {
     "elapsed": 758,
     "status": "ok",
     "timestamp": 1593886230953,
     "user": {
      "displayName": "Levi Souza",
      "photoUrl": "https://lh3.googleusercontent.com/a-/AOh14Gi1jidziim5rz4dgA-XlfYvSrS6bj-T_-5rPUoAHw=s64",
      "userId": "17727429839319898097"
     },
     "user_tz": 180
    },
    "id": "JThbTCYJ6nuF",
    "outputId": "f7d9e1ee-dabc-437c-92d3-a4b6228b539e"
   },
   "outputs": [
    {
     "data": {
      "text/plain": [
       "13.11"
      ]
     },
     "execution_count": 19,
     "metadata": {
      "tags": []
     },
     "output_type": "execute_result"
    }
   ],
   "source": [
    "capm = round(selic + b*(rm - selic), 4)\n",
    "\n",
    "capm * 100"
   ]
  },
  {
   "cell_type": "markdown",
   "metadata": {
    "colab_type": "text",
    "id": "0sot14gMBd3k"
   },
   "source": [
    "Para a ITSA4 a taxa retórica de retorno é de 13,11% a.a considerando o risco de mercado."
   ]
  }
 ],
 "metadata": {
  "colab": {
   "authorship_tag": "ABX9TyP9AAba38qlWnnVWNuM6gDg",
   "collapsed_sections": [],
   "name": "9.Estimativa do custo de capital.ipynb",
   "provenance": []
  },
  "kernelspec": {
   "display_name": "Python 3",
   "language": "python",
   "name": "python3"
  },
  "language_info": {
   "codemirror_mode": {
    "name": "ipython",
    "version": 3
   },
   "file_extension": ".py",
   "mimetype": "text/x-python",
   "name": "python",
   "nbconvert_exporter": "python",
   "pygments_lexer": "ipython3",
   "version": "3.8.2"
  }
 },
 "nbformat": 4,
 "nbformat_minor": 1
}
