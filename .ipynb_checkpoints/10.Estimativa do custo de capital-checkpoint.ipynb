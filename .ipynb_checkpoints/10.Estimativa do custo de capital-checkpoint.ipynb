{
 "cells": [
  {
   "cell_type": "markdown",
   "metadata": {
    "colab_type": "text",
    "id": "X4pPZji4H-sm"
   },
   "source": [
    "#Estimativa do custo de capital 2"
   ]
  },
  {
   "cell_type": "markdown",
   "metadata": {
    "colab_type": "text",
    "id": "XSHNEZnoKMTf"
   },
   "source": [
    "##Beta"
   ]
  },
  {
   "cell_type": "markdown",
   "metadata": {
    "colab_type": "text",
    "id": "MOWkVeiwohFE"
   },
   "source": [
    "O Índice beta é um indicador do mercado financeiro que apresenta o grau de volatilidade de um ativo ou carteira em comparação a um *benchmark* do mercado como IBOV ou S&P 500."
   ]
  },
  {
   "cell_type": "markdown",
   "metadata": {
    "colab_type": "text",
    "id": "BZp0FGBWu6T5"
   },
   "source": [
    "É calculado por:\n",
    "\n",
    "\n",
    "![beta](https://s.dicionariofinanceiro.com/imagens/formula-beta-variancia.jpg)\n",
    "\n",
    "Onde: \n",
    "\n",
    "* Cov(Rm, Ra): Covâriancia entre a rentabilidade do *benchamark* e o ativo.\n",
    "\n",
    "* Var(Rm): Variância da rentabilidade do *benchamark*.\n",
    "\n",
    "ou \n",
    "\n",
    "![beta2](https://s.dicionariofinanceiro.com/imagens/formula-beta.jpg)\n",
    "\n",
    "Onde:\n",
    "\n",
    "* ΔRa: Variação da rentabilidade do ativo. \n",
    "* ΔRm: Variação da rentabilidade do mercado."
   ]
  },
  {
   "cell_type": "markdown",
   "metadata": {
    "colab_type": "text",
    "id": "fNCTTlGOzNpG"
   },
   "source": [
    "Podemos interpretar o beta como:\n",
    "\n",
    "* β > 1: Risco maior que o do benchmark. Se, por exemplo, tivermos um beta de 1,3 e a bovespa tiver uma alta de 10%, quer dizer a sua carteira ou ativo teve um aumento de 13%.\n",
    "\n",
    "* β = 1: Risco igual ao do mercado com sua carteira. A variação da carteira/ativo é igual ao mercado. \n",
    "\n",
    "* β < 1: Risco menor que o de mercado. Se, por exemplo, tivermos um beta de 0,5 e a bovespa tiver uma alta de 10%, quer dizer a sua carteira ou ativo teve um aumento de 5,0%.\n",
    "\n",
    "* β < 0: Informa que o ativo é descorrelacionado com o *benchmarck* selecionado, ou seja, quando a rentabiliade do mercado aumenta o a do ativo diminui.  "
   ]
  },
  {
   "cell_type": "markdown",
   "metadata": {
    "colab_type": "text",
    "id": "E7t2zKPxHmZ5"
   },
   "source": [
    "## WACC"
   ]
  },
  {
   "cell_type": "markdown",
   "metadata": {
    "colab_type": "text",
    "id": "YZq2X3qBHqDH"
   },
   "source": [
    "O WACC (Weight Average Capital Cost) é o custo médio ponderado de capital. Basicamente, é a taxa de retorno do custo de oportunidade do capital adquirido pela empresa por acionistas ou outras fontes externas.\n",
    "\n",
    "\n",
    "\n",
    "É calculado como:\n",
    "\n",
    "![wacc](https://github.com/levisouuza/engenharia-economica-python/blob/master/images/wacc.png)"
   ]
  },
  {
   "cell_type": "markdown",
   "metadata": {
    "colab_type": "text",
    "id": "gC22mmT_YJmQ"
   },
   "source": [
    "Calculando o WACC."
   ]
  },
  {
   "cell_type": "code",
   "execution_count": 14,
   "metadata": {
    "colab": {},
    "colab_type": "code",
    "executionInfo": {
     "elapsed": 1061,
     "status": "ok",
     "timestamp": 1593910431585,
     "user": {
      "displayName": "Levi Souza",
      "photoUrl": "https://lh3.googleusercontent.com/a-/AOh14Gi1jidziim5rz4dgA-XlfYvSrS6bj-T_-5rPUoAHw=s64",
      "userId": "17727429839319898097"
     },
     "user_tz": 180
    },
    "id": "mQHkdfgPH6Jk"
   },
   "outputs": [],
   "source": [
    "free_risk_cost = 0.0417\n",
    "beta = 1.07\n",
    "prime = 0.0593\n",
    "market_value =  11042000\n",
    "debt_cost = 0.0917\n",
    "market_value_debit = 2093000\n",
    "tax = 0.34"
   ]
  },
  {
   "cell_type": "code",
   "execution_count": 9,
   "metadata": {
    "colab": {
     "base_uri": "https://localhost:8080/",
     "height": 34
    },
    "colab_type": "code",
    "executionInfo": {
     "elapsed": 1315,
     "status": "ok",
     "timestamp": 1593910028508,
     "user": {
      "displayName": "Levi Souza",
      "photoUrl": "https://lh3.googleusercontent.com/a-/AOh14Gi1jidziim5rz4dgA-XlfYvSrS6bj-T_-5rPUoAHw=s64",
      "userId": "17727429839319898097"
     },
     "user_tz": 180
    },
    "id": "DdsSQdfQYa7S",
    "outputId": "e6ac20c6-b35b-44cb-fd88-efcf099f127c"
   },
   "outputs": [
    {
     "data": {
      "text/plain": [
       "0.1052"
      ]
     },
     "execution_count": 9,
     "metadata": {
      "tags": []
     },
     "output_type": "execute_result"
    }
   ],
   "source": [
    "CAPM = round(free_risk_cost + (beta * prime), 4)\n",
    "\n",
    "CAPM"
   ]
  },
  {
   "cell_type": "code",
   "execution_count": 18,
   "metadata": {
    "colab": {
     "base_uri": "https://localhost:8080/",
     "height": 34
    },
    "colab_type": "code",
    "executionInfo": {
     "elapsed": 1006,
     "status": "ok",
     "timestamp": 1593910502855,
     "user": {
      "displayName": "Levi Souza",
      "photoUrl": "https://lh3.googleusercontent.com/a-/AOh14Gi1jidziim5rz4dgA-XlfYvSrS6bj-T_-5rPUoAHw=s64",
      "userId": "17727429839319898097"
     },
     "user_tz": 180
    },
    "id": "YlkTVwQqY1Zk",
    "outputId": "f88a113a-00f2-415b-f837-5f961e5940de"
   },
   "outputs": [
    {
     "data": {
      "text/plain": [
       "9.81"
      ]
     },
     "execution_count": 18,
     "metadata": {
      "tags": []
     },
     "output_type": "execute_result"
    }
   ],
   "source": [
    "WACC = ((market_value_debit / (market_value + market_value_debit)) * debt_cost * (1 - tax)) + (market_value / (market_value_debit + market_value)) * CAPM\n",
    "\n",
    "round(WACC*100, 2)"
   ]
  }
 ],
 "metadata": {
  "colab": {
   "authorship_tag": "ABX9TyM0ndx9JUL8Cu0MfGWsXeS1",
   "collapsed_sections": [],
   "name": "10.Estimativa do custo de capital.ipynb",
   "provenance": []
  },
  "kernelspec": {
   "display_name": "Python 3",
   "language": "python",
   "name": "python3"
  },
  "language_info": {
   "codemirror_mode": {
    "name": "ipython",
    "version": 3
   },
   "file_extension": ".py",
   "mimetype": "text/x-python",
   "name": "python",
   "nbconvert_exporter": "python",
   "pygments_lexer": "ipython3",
   "version": "3.8.2"
  }
 },
 "nbformat": 4,
 "nbformat_minor": 1
}
