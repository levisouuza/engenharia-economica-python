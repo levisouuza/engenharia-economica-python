{
 "cells": [
  {
   "cell_type": "markdown",
   "metadata": {
    "colab_type": "text",
    "id": "_YCsbIK5yA-B"
   },
   "source": [
    "# Opções Reais"
   ]
  },
  {
   "cell_type": "markdown",
   "metadata": {
    "colab_type": "text",
    "id": "9rEUtKMmyE5z"
   },
   "source": [
    "Opções reais é um modelo de avaliação de investimentos que consiste em determinar o melhor momento (*timing*) para expandir, abandonar, alterar ou adiar um projeto. Segundo Rigolon (1999), a empresa/tomador de decisão tem o direito - mas não a obrigação - de comprar um ativo ou projeto no futuro, a um preço de exercício."
   ]
  },
  {
   "cell_type": "markdown",
   "metadata": {
    "colab_type": "text",
    "id": "KK-uJa1MdNCy"
   },
   "source": [
    "Existem várias metodologias de cálculo de opção, entre as mais conhecidas estão o modelo binomial e Black and Scholes, amplamente utilizado no mercado financeiro. Para maiores informações sobre essas teorias, sugiro este [artigo](http://www2.dbd.puc-rio.br/pergamum/tesesabertas/0712520_09_cap_04.pdf)."
   ]
  },
  {
   "cell_type": "markdown",
   "metadata": {
    "colab_type": "text",
    "id": "SqPNfJtId2ZF"
   },
   "source": [
    "O modelo de opções reais acrescenta valor na análise de investimentos. Poderá ser utilizado em paralelo com os outros métodos de avaliação como VPL, TIR e outros."
   ]
  },
  {
   "cell_type": "markdown",
   "metadata": {
    "colab_type": "text",
    "id": "RXI2bS48zvBl"
   },
   "source": [
    "O *modelo Binomial* consiste em um diagrama de árvore de decisão(binomial) que projeta a trajetória a ser seguida pelo preço do ativo em análise.\n",
    "\n",
    "![opções](images/opcoes.png)"
   ]
  },
  {
   "cell_type": "markdown",
   "metadata": {
    "colab_type": "text",
    "id": "IazhKs4fmy9G"
   },
   "source": [
    "Para cálculo  de **u** e **d** das opções utilizaremos a expressão de **Cox, Ross e Rubinstein**:\n",
    "\n",
    "\n",
    "![U](images/Uopcoes.png)\n",
    "\n",
    "\n",
    "![D](images/Dopcoes.png)\n",
    "\n"
   ]
  },
  {
   "cell_type": "markdown",
   "metadata": {
    "colab_type": "text",
    "id": "ApT0nFyiqZJi"
   },
   "source": [
    "Considerando um investimento de R$100 em 1 ano com uma volatilidade de 15%, quais as opções de investimento ?"
   ]
  },
  {
   "cell_type": "code",
   "execution_count": 2,
   "metadata": {
    "colab": {},
    "colab_type": "code",
    "id": "zgTf-zn-qvvN"
   },
   "outputs": [],
   "source": [
    "import numpy as np \n",
    "import pandas as pd"
   ]
  },
  {
   "cell_type": "code",
   "execution_count": 3,
   "metadata": {
    "colab": {},
    "colab_type": "code",
    "id": "T_VW3svCqx7n"
   },
   "outputs": [],
   "source": [
    "investment = 100\n",
    "vol = 0.15\n",
    "t = 1"
   ]
  },
  {
   "cell_type": "code",
   "execution_count": 4,
   "metadata": {
    "colab": {},
    "colab_type": "code",
    "id": "X1g2w32Nq6Ls"
   },
   "outputs": [],
   "source": [
    "def u_options(vol, t):\n",
    "  u_opt = np.exp(vol*(t**(1/2)))\n",
    "  \n",
    "  return round(u_opt, 4) \n",
    "\n",
    "\n",
    "def d_options(u):\n",
    "  d_opt = 1/u\n",
    "  \n",
    "  return round(d_opt, 4)"
   ]
  },
  {
   "cell_type": "code",
   "execution_count": 5,
   "metadata": {
    "colab": {
     "base_uri": "https://localhost:8080/",
     "height": 34
    },
    "colab_type": "code",
    "executionInfo": {
     "elapsed": 994,
     "status": "ok",
     "timestamp": 1593287188458,
     "user": {
      "displayName": "Levi Souza",
      "photoUrl": "https://lh3.googleusercontent.com/a-/AOh14Gi1jidziim5rz4dgA-XlfYvSrS6bj-T_-5rPUoAHw=s64",
      "userId": "17727429839319898097"
     },
     "user_tz": 180
    },
    "id": "koMJjSuProWY",
    "outputId": "1ddeaf62-b42a-4983-9736-ff2a7f5f5729"
   },
   "outputs": [
    {
     "name": "stdout",
     "output_type": "stream",
     "text": [
      "1.1618\n"
     ]
    }
   ],
   "source": [
    "u = u_options(vol,t)\n",
    "\n",
    "print(u)"
   ]
  },
  {
   "cell_type": "code",
   "execution_count": null,
   "metadata": {
    "colab": {
     "base_uri": "https://localhost:8080/",
     "height": 34
    },
    "colab_type": "code",
    "executionInfo": {
     "elapsed": 845,
     "status": "ok",
     "timestamp": 1593276605460,
     "user": {
      "displayName": "Levi Souza",
      "photoUrl": "https://lh3.googleusercontent.com/a-/AOh14Gi1jidziim5rz4dgA-XlfYvSrS6bj-T_-5rPUoAHw=s64",
      "userId": "17727429839319898097"
     },
     "user_tz": 180
    },
    "id": "beEeoZSmrs2a",
    "outputId": "1b703d93-b508-4125-f2be-4581d5ab5fb3"
   },
   "outputs": [
    {
     "name": "stdout",
     "output_type": "stream",
     "text": [
      "0.8607\n"
     ]
    }
   ],
   "source": [
    "d = d_options(u)\n",
    "\n",
    "print(d)"
   ]
  },
  {
   "cell_type": "code",
   "execution_count": null,
   "metadata": {
    "colab": {},
    "colab_type": "code",
    "id": "6kf8KeOXr6Ba"
   },
   "outputs": [],
   "source": [
    "up = []\n",
    "down = []"
   ]
  },
  {
   "cell_type": "code",
   "execution_count": null,
   "metadata": {
    "colab": {},
    "colab_type": "code",
    "id": "PDge0Nn1FmMk"
   },
   "outputs": [],
   "source": [
    "for i in range(3):\n",
    "  \n",
    "  if i == 0:\n",
    "    \n",
    "    up.append(investment)\n",
    "    down.append(investment)\n",
    "  \n",
    "  else:\n",
    "\n",
    "    up.append(round(up[i-1]*float(u)))\n",
    "    down.append(round(down[i-1]*float(d)))\n"
   ]
  },
  {
   "cell_type": "code",
   "execution_count": null,
   "metadata": {
    "colab": {
     "base_uri": "https://localhost:8080/",
     "height": 34
    },
    "colab_type": "code",
    "executionInfo": {
     "elapsed": 886,
     "status": "ok",
     "timestamp": 1593287277944,
     "user": {
      "displayName": "Levi Souza",
      "photoUrl": "https://lh3.googleusercontent.com/a-/AOh14Gi1jidziim5rz4dgA-XlfYvSrS6bj-T_-5rPUoAHw=s64",
      "userId": "17727429839319898097"
     },
     "user_tz": 180
    },
    "id": "2-oVD8EuGH4r",
    "outputId": "eb46c416-5921-477a-aa7f-541989784b91"
   },
   "outputs": [
    {
     "data": {
      "text/plain": [
       "[100, 116, 135]"
      ]
     },
     "execution_count": 71,
     "metadata": {
      "tags": []
     },
     "output_type": "execute_result"
    }
   ],
   "source": [
    "up"
   ]
  },
  {
   "cell_type": "code",
   "execution_count": null,
   "metadata": {
    "colab": {
     "base_uri": "https://localhost:8080/",
     "height": 34
    },
    "colab_type": "code",
    "executionInfo": {
     "elapsed": 468,
     "status": "ok",
     "timestamp": 1593287278920,
     "user": {
      "displayName": "Levi Souza",
      "photoUrl": "https://lh3.googleusercontent.com/a-/AOh14Gi1jidziim5rz4dgA-XlfYvSrS6bj-T_-5rPUoAHw=s64",
      "userId": "17727429839319898097"
     },
     "user_tz": 180
    },
    "id": "Q-KliZxyKiy4",
    "outputId": "3846105f-53e7-4a13-f2ec-9b11575a6497"
   },
   "outputs": [
    {
     "data": {
      "text/plain": [
       "[100, 86, 74]"
      ]
     },
     "execution_count": 72,
     "metadata": {
      "tags": []
     },
     "output_type": "execute_result"
    }
   ],
   "source": [
    "down"
   ]
  },
  {
   "cell_type": "code",
   "execution_count": null,
   "metadata": {
    "colab": {},
    "colab_type": "code",
    "id": "fj3EgRR8KkD9"
   },
   "outputs": [],
   "source": [
    "options = pd.DataFrame({'UP': up, \n",
    "                        'DOWN': down})"
   ]
  },
  {
   "cell_type": "code",
   "execution_count": null,
   "metadata": {
    "colab": {
     "base_uri": "https://localhost:8080/",
     "height": 144
    },
    "colab_type": "code",
    "executionInfo": {
     "elapsed": 680,
     "status": "ok",
     "timestamp": 1593287337231,
     "user": {
      "displayName": "Levi Souza",
      "photoUrl": "https://lh3.googleusercontent.com/a-/AOh14Gi1jidziim5rz4dgA-XlfYvSrS6bj-T_-5rPUoAHw=s64",
      "userId": "17727429839319898097"
     },
     "user_tz": 180
    },
    "id": "hKEKWA_DU1OH",
    "outputId": "f5c60e00-16be-4b21-d89e-22293e9edfbe"
   },
   "outputs": [
    {
     "data": {
      "text/html": [
       "<div>\n",
       "<style scoped>\n",
       "    .dataframe tbody tr th:only-of-type {\n",
       "        vertical-align: middle;\n",
       "    }\n",
       "\n",
       "    .dataframe tbody tr th {\n",
       "        vertical-align: top;\n",
       "    }\n",
       "\n",
       "    .dataframe thead th {\n",
       "        text-align: right;\n",
       "    }\n",
       "</style>\n",
       "<table border=\"1\" class=\"dataframe\">\n",
       "  <thead>\n",
       "    <tr style=\"text-align: right;\">\n",
       "      <th></th>\n",
       "      <th>UP</th>\n",
       "      <th>DOWN</th>\n",
       "    </tr>\n",
       "  </thead>\n",
       "  <tbody>\n",
       "    <tr>\n",
       "      <th>0</th>\n",
       "      <td>100</td>\n",
       "      <td>100</td>\n",
       "    </tr>\n",
       "    <tr>\n",
       "      <th>1</th>\n",
       "      <td>116</td>\n",
       "      <td>86</td>\n",
       "    </tr>\n",
       "    <tr>\n",
       "      <th>2</th>\n",
       "      <td>135</td>\n",
       "      <td>74</td>\n",
       "    </tr>\n",
       "  </tbody>\n",
       "</table>\n",
       "</div>"
      ],
      "text/plain": [
       "    UP  DOWN\n",
       "0  100   100\n",
       "1  116    86\n",
       "2  135    74"
      ]
     },
     "execution_count": 74,
     "metadata": {
      "tags": []
     },
     "output_type": "execute_result"
    }
   ],
   "source": [
    "options"
   ]
  }
 ],
 "metadata": {
  "colab": {
   "authorship_tag": "ABX9TyP3Rw6xf8CWJT6hQCRymOtT",
   "collapsed_sections": [],
   "name": "8.Opções Reais.ipynb",
   "provenance": []
  },
  "kernelspec": {
   "display_name": "Python 3",
   "language": "python",
   "name": "python3"
  },
  "language_info": {
   "codemirror_mode": {
    "name": "ipython",
    "version": 3
   },
   "file_extension": ".py",
   "mimetype": "text/x-python",
   "name": "python",
   "nbconvert_exporter": "python",
   "pygments_lexer": "ipython3",
   "version": "3.8.2"
  }
 },
 "nbformat": 4,
 "nbformat_minor": 1
}
